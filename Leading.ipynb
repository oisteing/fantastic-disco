{
 "cells": [
  {
   "cell_type": "markdown",
   "id": "a9123196",
   "metadata": {},
   "source": [
    "# Leading"
   ]
  },
  {
   "cell_type": "markdown",
   "id": "ac8633cd",
   "metadata": {},
   "source": [
    "Her skal vi først lage 40 myntkast."
   ]
  },
  {
   "cell_type": "code",
   "execution_count": null,
   "id": "ca7ceb82",
   "metadata": {
    "scrolled": false
   },
   "outputs": [],
   "source": [
    "from random import *\n",
    "\n",
    "for n in range(1,41):\n",
    "  if random()<0.5:\n",
    "    print(\" T\",end =\" \")\n",
    "  else:\n",
    "    print(\" H\",end =\" \")"
   ]
  },
  {
   "cell_type": "markdown",
   "id": "745cf529",
   "metadata": {},
   "source": [
    "Som du ser blir det forskjellig kvar gong, men ikkje utenkjeleg at det er omlag 20 av kvar."
   ]
  },
  {
   "cell_type": "code",
   "execution_count": null,
   "id": "abb643f6",
   "metadata": {},
   "outputs": [],
   "source": [
    "from random import *\n",
    "\n",
    "print(\"Vi skal kaste tusen gonger med ein mynt og vi får H eller T. Viss vi kastar 1000 gonger og heile tida held styr på kor lenge H eller T har flest... kor mange av disse kasta trur du H vil lede?\")\n",
    "print(\"\")\n",
    "h=0\n",
    "i=0\n",
    "t=0\n",
    "s=0\n",
    "\n",
    "for n in range(1,1000):\n",
    "  \n",
    "  if random()<0.5:\n",
    "    print(\"H\")\n",
    "    h=h+1\n",
    "  else:\n",
    "    print(\"T\")\n",
    "    t=t+1\n",
    "\n",
    "  if h>t:\n",
    "    i=i+1\n",
    "    print(\"H\", i)\n",
    "  elif t>h:\n",
    "    s=s+1\n",
    "    print(\"T\", s)\n",
    "\n",
    "print(\"H\", h)\n",
    "print(\"T\", t)\n",
    "\n",
    "print(\"H var i ledelsen\", i, \"runder.\")\n",
    "print(\"T var i ledelsen\", s, \"runder.\") \n",
    "print(\"Det var uavgjort: \", 1000-i-s)\n",
    "\n"
   ]
  },
  {
   "cell_type": "code",
   "execution_count": null,
   "id": "16a265c6",
   "metadata": {},
   "outputs": [],
   "source": []
  }
 ],
 "metadata": {
  "kernelspec": {
   "display_name": "Python 3 (ipykernel)",
   "language": "python",
   "name": "python3"
  },
  "language_info": {
   "codemirror_mode": {
    "name": "ipython",
    "version": 3
   },
   "file_extension": ".py",
   "mimetype": "text/x-python",
   "name": "python",
   "nbconvert_exporter": "python",
   "pygments_lexer": "ipython3",
   "version": "3.8.8"
  }
 },
 "nbformat": 4,
 "nbformat_minor": 5
}
