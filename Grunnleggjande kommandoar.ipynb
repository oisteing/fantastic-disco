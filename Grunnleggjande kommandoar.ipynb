{
 "cells": [
  {
   "cell_type": "markdown",
   "id": "88189692",
   "metadata": {},
   "source": [
    "# Grunnleggjande kommandoar i python"
   ]
  },
  {
   "cell_type": "markdown",
   "id": "d3304d36",
   "metadata": {},
   "source": [
    "## Hello world"
   ]
  },
  {
   "cell_type": "markdown",
   "id": "151a40dc",
   "metadata": {},
   "source": [
    "Det går sikkert an å begynne på ein annan måte, men korfor ta sjansen? Dette er tradisjonen for det første ein gjer i alle programmeringsspråk:"
   ]
  },
  {
   "cell_type": "code",
   "execution_count": null,
   "id": "95248d99",
   "metadata": {},
   "outputs": [],
   "source": [
    "print(\"Hello world\")"
   ]
  },
  {
   "cell_type": "markdown",
   "id": "809c7ca3",
   "metadata": {},
   "source": [
    "## Matematikk"
   ]
  },
  {
   "cell_type": "markdown",
   "id": "4e63eaa5",
   "metadata": {},
   "source": [
    "Vi skal over til litt meir matematikk-spesifikke kommandoar. Kva får du om du køyrer denne koden?"
   ]
  },
  {
   "cell_type": "code",
   "execution_count": null,
   "id": "82c118f4",
   "metadata": {},
   "outputs": [],
   "source": [
    "print(3 + 3*7)\n",
    "\n",
    "print((2+3) * 7)\n",
    "\n",
    "print(2 + 3 * 7 / 4)\n",
    "\n",
    "print(2**3 - 14)\n",
    "\n",
    "print(11 % 3)\n",
    "print(11 // 3)\n",
    "\n",
    "print(10 % 3)\n",
    "print(10 // 3)\n",
    "\n",
    "print(9 % 3)\n",
    "print(9 // 3)"
   ]
  },
  {
   "cell_type": "markdown",
   "id": "f3f7a07e",
   "metadata": {},
   "source": [
    "Du legg kanskje merke til at det er nokre teikn her, som du ikkje har brukt før. Det gjeld truleg **, // og %. Kva kan desse bety?"
   ]
  },
  {
   "cell_type": "code",
   "execution_count": null,
   "id": "7c761a13",
   "metadata": {},
   "outputs": [],
   "source": []
  }
 ],
 "metadata": {
  "kernelspec": {
   "display_name": "Python 3",
   "language": "python",
   "name": "python3"
  },
  "language_info": {
   "codemirror_mode": {
    "name": "ipython",
    "version": 3
   },
   "file_extension": ".py",
   "mimetype": "text/x-python",
   "name": "python",
   "nbconvert_exporter": "python",
   "pygments_lexer": "ipython3",
   "version": "3.8.8"
  }
 },
 "nbformat": 4,
 "nbformat_minor": 5
}
